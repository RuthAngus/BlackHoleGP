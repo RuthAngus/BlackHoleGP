{
 "metadata": {
  "name": "",
  "signature": "sha256:87f37be8c0cbe02b69984dd8189d1f378ade5f27524781ac9a43705181dba7b3"
 },
 "nbformat": 3,
 "nbformat_minor": 0,
 "worksheets": [
  {
   "cells": [
    {
     "cell_type": "markdown",
     "metadata": {},
     "source": [
      "## Gaussian Process Models for Ultraluminous X-ray Sources\n",
      "\n",
      "Below, we are developing the first Gaussian Process-based model to characterise variability in ultraluminous X-ray sources and try to robustly detect QPOs. \n",
      "\n",
      "For this, we're going to use dfm's awesome code [george](https://github.com/dfm/george). Make sure it's installed!"
     ]
    },
    {
     "cell_type": "code",
     "collapsed": false,
     "input": [
      "import numpy as np\n",
      "import matplotlib.pyplot as plt\n",
      "get_ipython().magic(u'matplotlib inline')\n",
      "import george\n",
      "from george.kernels import ExpSine2Kernel, ExpSquaredKernel, WhiteKernel"
     ],
     "language": "python",
     "metadata": {},
     "outputs": [],
     "prompt_number": 82
    },
    {
     "cell_type": "markdown",
     "metadata": {},
     "source": [
      "The data is a Swift lightcurve of NGC 5408 X-1 from the last ~10 years. You can find it in the repository. We're changing seconds to days, then subtract the median to make sure we have a light curve distributed around zero. \n"
     ]
    },
    {
     "cell_type": "code",
     "collapsed": false,
     "input": [
      "data = np.genfromtxt('curve_plain.dat', skip_header=11, skip_footer=13).T\n",
      "time = (data[0] - np.mean(data[0])) / (86400.)\n",
      "print np.median(data[3])\n",
      "counts = data[3] - np.median(data[3])\n",
      "yerr = data[5]\n",
      "print(len(time))\n",
      "print(len(counts))\n",
      "print(len(yerr))"
     ],
     "language": "python",
     "metadata": {},
     "outputs": [
      {
       "output_type": "stream",
       "stream": "stdout",
       "text": [
        "0.07234633\n",
        "522\n",
        "522\n",
        "522\n"
       ]
      }
     ],
     "prompt_number": 94
    },
    {
     "cell_type": "code",
     "collapsed": false,
     "input": [
      "np.all(np.isfinite(counts))"
     ],
     "language": "python",
     "metadata": {},
     "outputs": [
      {
       "metadata": {},
       "output_type": "pyout",
       "prompt_number": 95,
       "text": [
        "True"
       ]
      }
     ],
     "prompt_number": 95
    },
    {
     "cell_type": "markdown",
     "metadata": {},
     "source": [
      "The next part is a definition of a function that predicts a GP conditioned on the data. We use a Squared Exponential kernel for now."
     ]
    },
    {
     "cell_type": "code",
     "collapsed": false,
     "input": [
      "def predict(theta, xs, x, y, yerr):\n",
      "    k = theta[0] * ExpSquaredKernel(theta[1])  # * ExpSine2Kernel(theta[2], theta[3])\n",
      "    gp = george.GP(k)\n",
      "    gp.compute(x, np.sqrt(theta[2]+yerr**2))\n",
      "    print(gp.lnlikelihood(y))\n",
      "    return gp.predict(y, xs)"
     ],
     "language": "python",
     "metadata": {},
     "outputs": [],
     "prompt_number": 96
    },
    {
     "cell_type": "code",
     "collapsed": false,
     "input": [
      "theta = [.5 ** 2, 0.05, 0.1] ## our initial parameter guesses\n",
      "xs = np.linspace(min(time), max(time), 5000) ## time stamps for the GP guess\n",
      "ys = predict(theta, xs, time, counts, yerr) ## make the prediction"
     ],
     "language": "python",
     "metadata": {},
     "outputs": [
      {
       "output_type": "stream",
       "stream": "stdout",
       "text": [
        "-205.222033714\n"
       ]
      }
     ],
     "prompt_number": 97
    },
    {
     "cell_type": "code",
     "collapsed": false,
     "input": [
      "## plot data and GP\n",
      "plt.errorbar(time, counts, yerr=yerr, fmt='k.')\n",
      "plt.plot(xs, ys[0], 'r')"
     ],
     "language": "python",
     "metadata": {},
     "outputs": [
      {
       "metadata": {},
       "output_type": "pyout",
       "prompt_number": 98,
       "text": [
        "[<matplotlib.lines.Line2D at 0x1165269d0>]"
       ]
      },
      {
       "metadata": {},
       "output_type": "display_data",
       "png": "[encoded data removed]",
       "text": [
        "<matplotlib.figure.Figure at 0x1165268d0>"
       ]
      }
     ],
     "prompt_number": 98
    },
    {
     "cell_type": "markdown",
     "metadata": {},
     "source": [
      "For comparison with Grise+ (2013), we do a Lomb-Scargle periodogram to see whether our light curve is vaguely similar to that in the paper."
     ]
    },
    {
     "cell_type": "code",
     "collapsed": false,
     "input": [
      "from scipy.signal import lombscargle\n",
      "freqs = 2 * np.pi * np.linspace(1/1000., 1., 100000)\n",
      "ls = lombscargle(time, counts, freqs)"
     ],
     "language": "python",
     "metadata": {},
     "outputs": [],
     "prompt_number": 99
    },
    {
     "cell_type": "code",
     "collapsed": false,
     "input": [
      "plt.semilogx(2 * np.pi/freqs, ls)"
     ],
     "language": "python",
     "metadata": {},
     "outputs": [
      {
       "metadata": {},
       "output_type": "pyout",
       "prompt_number": 22,
       "text": [
        "[<matplotlib.lines.Line2D at 0x1157d9fd0>]"
       ]
      },
      {
       "metadata": {},
       "output_type": "display_data",
       "png": "[encoded data removed]",
       "text": [
        "<matplotlib.figure.Figure at 0x11505ce50>"
       ]
      }
     ],
     "prompt_number": 22
    },
    {
     "cell_type": "markdown",
     "metadata": {},
     "source": [
      "It is! Awesome, we can continue.\n",
      "\n",
      "Next, we define a negative log-likelihood that we can then use for optimisation. Again, we use a squared-exponential kernel.\n",
      "The keyword quiet=True ensures that for an invalid kernel, it returns -inf rather than throwing an error."
     ]
    },
    {
     "cell_type": "code",
     "collapsed": false,
     "input": [
      "\n",
      "def neglnlike(theta):\n",
      "    sekernel = float(theta[0]) * ExpSquaredKernel(float(theta[1])) + WhiteKernel(float(theta[2])) # * ExpSine2Kernel(theta[2], theta[3])\n",
      "    gp = george.GP(sekernel)\n",
      "    try:\n",
      "        gp.compute(time, yerr)\n",
      "    except (np.linalg.LinAlgError, ValueError):\n",
      "        return 100000000.\n",
      "    nln = -gp.lnlikelihood(counts, quiet=True)\n",
      "    return nln"
     ],
     "language": "python",
     "metadata": {},
     "outputs": [],
     "prompt_number": 100
    },
    {
     "cell_type": "code",
     "collapsed": false,
     "input": [
      "print neglnlike(theta)"
     ],
     "language": "python",
     "metadata": {},
     "outputs": [
      {
       "output_type": "stream",
       "stream": "stdout",
       "text": [
        "-27.8850875057\n"
       ]
      }
     ],
     "prompt_number": 36
    },
    {
     "cell_type": "markdown",
     "metadata": {},
     "source": [
      "Now we can do the actual minimisation, using scipy.optimize.minimize, with bounds (such that certain parameters cannot fall < zero)."
     ]
    },
    {
     "cell_type": "code",
     "collapsed": false,
     "input": [
      "#args = (time, counts, yerr)\n",
      "\n",
      "theta = [0.5**2.0, 0.1, 10.0]\n",
      "from scipy.optimize import minimize\n",
      "result = minimize(neglnlike, theta, method=\"nelder-mead\")\n",
      "print(result)"
     ],
     "language": "python",
     "metadata": {},
     "outputs": [
      {
       "output_type": "stream",
       "stream": "stdout",
       "text": [
        "  status: 1\n",
        "    nfev: 601\n",
        " success: False\n",
        "     fun: -1303.5481479853452\n",
        "       x: array([  3.08201306e-04,   2.72544323e-01,   3.54248762e-05])\n",
        " message: 'Maximum number of function evaluations has been exceeded.'\n",
        "     nit: 314\n"
       ]
      }
     ],
     "prompt_number": 101
    },
    {
     "cell_type": "code",
     "collapsed": false,
     "input": [
      "print(-neglnlike(result[\"x\"]))"
     ],
     "language": "python",
     "metadata": {},
     "outputs": [
      {
       "output_type": "stream",
       "stream": "stdout",
       "text": [
        "-145.427228194\n"
       ]
      }
     ],
     "prompt_number": 86
    },
    {
     "cell_type": "code",
     "collapsed": false,
     "input": [
      "\n",
      "sekernel = float(theta[0]) * ExpSquaredKernel(float(theta[1])) + WhiteKernel(float(theta[2])) # * ExpSine2Kernel(theta[2], theta[3])\n",
      "gp = george.GP(sekernel)\n",
      "result2= gp.optimize(time, counts, yerr)"
     ],
     "language": "python",
     "metadata": {},
     "outputs": [
      {
       "output_type": "stream",
       "stream": "stdout",
       "text": [
        "Optimization terminated successfully.\n"
       ]
      }
     ],
     "prompt_number": 102
    },
    {
     "cell_type": "code",
     "collapsed": false,
     "input": [
      "plt.errorbar(time, counts, yerr=yerr, fmt='k.')\n",
      "ys = predict(theta, xs, time, counts, yerr)\n",
      "plt.plot(xs, ys[0], 'r')"
     ],
     "language": "python",
     "metadata": {},
     "outputs": [
      {
       "output_type": "stream",
       "stream": "stdout",
       "text": [
        "-1087.11334468\n"
       ]
      },
      {
       "metadata": {},
       "output_type": "pyout",
       "prompt_number": 103,
       "text": [
        "[<matplotlib.lines.Line2D at 0x117c21790>]"
       ]
      },
      {
       "metadata": {},
       "output_type": "display_data",
       "png": "[encoded data removed]",
       "text": [
        "<matplotlib.figure.Figure at 0x1165263d0>"
       ]
      }
     ],
     "prompt_number": 103
    },
    {
     "cell_type": "code",
     "collapsed": false,
     "input": [
      "result2"
     ],
     "language": "python",
     "metadata": {},
     "outputs": [
      {
       "metadata": {},
       "output_type": "pyout",
       "prompt_number": 104,
       "text": [
        "(array([  -7.97150785,   -1.42759845, -252.39500888]),\n",
        "    status: 0\n",
        "  success: True\n",
        "     njev: 14\n",
        "     nfev: 14\n",
        " hess_inv: array([[  5.94633414e-03,   2.90687349e-03,   9.36127094e-04],\n",
        "       [  2.90687349e-03,   6.66323850e-02,  -1.50191583e-03],\n",
        "       [  9.36127094e-04,  -1.50191583e-03,   9.95909735e-01]])\n",
        "      fun: -1303.0979432691993\n",
        "        x: array([  -7.97150785,   -1.42759845, -252.39500888])\n",
        "  message: 'Optimization terminated successfully.'\n",
        "      jac: array([  7.42110202e-007,   3.61795087e-007,  -4.17279681e-106]))"
       ]
      }
     ],
     "prompt_number": 104
    },
    {
     "cell_type": "code",
     "collapsed": false,
     "input": [],
     "language": "python",
     "metadata": {},
     "outputs": []
    }
   ],
   "metadata": {}
  }
 ]
}